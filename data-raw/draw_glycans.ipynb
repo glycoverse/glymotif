{
 "cells": [
  {
   "cell_type": "code",
   "execution_count": 2,
   "id": "6e66ffad-87e6-4684-a362-a7241648f52a",
   "metadata": {},
   "outputs": [],
   "source": [
    "from glycowork import GlycoDraw"
   ]
  },
  {
   "cell_type": "code",
   "execution_count": 13,
   "id": "ee6b3d46",
   "metadata": {},
   "outputs": [
    {
     "name": "stdout",
     "output_type": "stream",
     "text": [
      "\u001b[31mSignature:\u001b[39m\n",
      "GlycoDraw(\n",
      "    glycan: str,\n",
      "    vertical: bool = \u001b[38;5;28;01mFalse\u001b[39;00m,\n",
      "    compact: bool = \u001b[38;5;28;01mFalse\u001b[39;00m,\n",
      "    show_linkage: bool = \u001b[38;5;28;01mTrue\u001b[39;00m,\n",
      "    dim: float = \u001b[32m50\u001b[39m,\n",
      "    highlight_motif: Optional[str] = \u001b[38;5;28;01mNone\u001b[39;00m,\n",
      "    highlight_termini_list: List = [],\n",
      "    reverse_highlight: bool = \u001b[38;5;28;01mFalse\u001b[39;00m,\n",
      "    repeat: Union[bool, int, str, NoneType] = \u001b[38;5;28;01mNone\u001b[39;00m,\n",
      "    repeat_range: Optional[List[int]] = \u001b[38;5;28;01mNone\u001b[39;00m,\n",
      "    draw_method: Optional[str] = \u001b[38;5;28;01mNone\u001b[39;00m,\n",
      "    filepath: Union[str, pathlib.Path, NoneType] = \u001b[38;5;28;01mNone\u001b[39;00m,\n",
      "    suppress: bool = \u001b[38;5;28;01mFalse\u001b[39;00m,\n",
      "    per_residue: List = [],\n",
      "    pdb_file: Union[str, pathlib.Path, NoneType] = \u001b[38;5;28;01mNone\u001b[39;00m,\n",
      "    alt_text: Optional[str] = \u001b[38;5;28;01mNone\u001b[39;00m,\n",
      "    libr: dict = \u001b[38;5;28;01mNone\u001b[39;00m,\n",
      ") -> Any\n",
      "\u001b[31mDocstring:\u001b[39m Renders glycan structure using SNFG symbols or chemical structure representation\n",
      "\u001b[31mFile:\u001b[39m      ~/miniforge3/envs/glycowork/lib/python3.12/site-packages/glycowork/motif/draw.py\n",
      "\u001b[31mType:\u001b[39m      function"
     ]
    }
   ],
   "source": [
    "GlycoDraw?"
   ]
  },
  {
   "cell_type": "code",
   "execution_count": 5,
   "id": "6020d546-fc98-4f09-a929-7e7eafdd073e",
   "metadata": {},
   "outputs": [
    {
     "data": {
      "image/svg+xml": [
       "<?xml version=\"1.0\" encoding=\"UTF-8\"?>\n",
       "<svg xmlns=\"http://www.w3.org/2000/svg\" xmlns:xlink=\"http://www.w3.org/1999/xlink\"\n",
       "     width=\"500\" height=\"310\" viewBox=\"-450.0 -105.0 500 310\">\n",
       "<defs>\n",
       "<path d=\"M-100,0 L0,0\" stroke-width=\"4.0\" stroke=\"#000000\" id=\"o65ruxy70\" />\n",
       "<path d=\"M-200,0 L-100,0\" stroke-width=\"4.0\" stroke=\"#000000\" id=\"o65ruxy71\" />\n",
       "<path d=\"M-300,0 L-200,0\" stroke-width=\"4.0\" stroke=\"#000000\" id=\"o65ruxy72\" />\n",
       "<path d=\"M-400,0 L-300,0\" stroke-width=\"4.0\" stroke=\"#000000\" id=\"o65ruxy73\" />\n",
       "<path d=\"M-200,100 L-200,0\" stroke-width=\"4.0\" stroke=\"#000000\" id=\"o65ruxy74\" />\n",
       "<path d=\"M-50,25.0 L50,25.0\" stroke-width=\"0\" id=\"o65ruxy75\" />\n",
       "<path d=\"M-150,25.0 L-50,25.0\" stroke-width=\"0\" id=\"o65ruxy76\" />\n",
       "<path d=\"M-250,25.0 L-150,25.0\" stroke-width=\"0\" id=\"o65ruxy77\" />\n",
       "<path d=\"M-350,25.0 L-250,25.0\" stroke-width=\"0\" id=\"o65ruxy78\" />\n",
       "<path d=\"M-450,25.0 L-350,25.0\" stroke-width=\"0\" id=\"o65ruxy79\" />\n",
       "<path d=\"M-250,125.0 L-150,125.0\" stroke-width=\"0\" id=\"o65ruxy710\" />\n",
       "</defs>\n",
       "<g transform=\"rotate(0 -200.0 50.0)\">\n",
       "<use xlink:href=\"#o65ruxy70\" />\n",
       "<text font-size=\"20.0\" text-anchor=\"middle\" fill=\"#000000\" valign=\"middle\"><textPath xlink:href=\"#o65ruxy70\" startOffset=\"50%\">\n",
       "<tspan dy=\"-0.5em\">β 3</tspan>\n",
       "</textPath></text>\n",
       "<use xlink:href=\"#o65ruxy71\" />\n",
       "<text font-size=\"20.0\" text-anchor=\"middle\" fill=\"#000000\" valign=\"middle\"><textPath xlink:href=\"#o65ruxy71\" startOffset=\"50%\">\n",
       "<tspan dy=\"-0.5em\">β 3</tspan>\n",
       "</textPath></text>\n",
       "<use xlink:href=\"#o65ruxy72\" />\n",
       "<text font-size=\"20.0\" text-anchor=\"middle\" fill=\"#000000\" valign=\"middle\"><textPath xlink:href=\"#o65ruxy72\" startOffset=\"50%\">\n",
       "<tspan dy=\"-0.5em\">β 4</tspan>\n",
       "</textPath></text>\n",
       "<use xlink:href=\"#o65ruxy73\" />\n",
       "<text font-size=\"20.0\" text-anchor=\"middle\" fill=\"#000000\" valign=\"middle\"><textPath xlink:href=\"#o65ruxy73\" startOffset=\"50%\">\n",
       "<tspan dy=\"-0.5em\">α 3</tspan>\n",
       "</textPath></text>\n",
       "<use xlink:href=\"#o65ruxy74\" />\n",
       "<text font-size=\"20.0\" text-anchor=\"middle\" fill=\"#000000\" valign=\"middle\"><textPath xlink:href=\"#o65ruxy74\" startOffset=\"50%\">\n",
       "<tspan dy=\"-0.5em\">α 3</tspan>\n",
       "</textPath></text>\n",
       "<rect x=\"-25.0\" y=\"-25.0\" width=\"50\" height=\"50\" fill=\"#FCC326\" stroke-width=\"2.0\" stroke=\"#000000\" />\n",
       "<use xlink:href=\"#o65ruxy75\" />\n",
       "<text font-size=\"17.5\" fill=\"#000000\" text-anchor=\"middle\"><textPath xlink:href=\"#o65ruxy75\" startOffset=\"50%\"></textPath></text>\n",
       "<circle cx=\"-100\" cy=\"0\" r=\"25.0\" fill=\"#FCC326\" stroke-width=\"2.0\" stroke=\"#000000\" />\n",
       "<use xlink:href=\"#o65ruxy76\" />\n",
       "<text font-size=\"17.5\" fill=\"#000000\" text-anchor=\"middle\"><textPath xlink:href=\"#o65ruxy76\" startOffset=\"50%\"></textPath></text>\n",
       "<rect x=\"-225.0\" y=\"-25.0\" width=\"50\" height=\"50\" fill=\"#0385AE\" stroke-width=\"2.0\" stroke=\"#000000\" />\n",
       "<use xlink:href=\"#o65ruxy77\" />\n",
       "<text font-size=\"17.5\" fill=\"#000000\" text-anchor=\"middle\"><textPath xlink:href=\"#o65ruxy77\" startOffset=\"50%\"></textPath></text>\n",
       "<circle cx=\"-300\" cy=\"0\" r=\"25.0\" fill=\"#FCC326\" stroke-width=\"2.0\" stroke=\"#000000\" />\n",
       "<use xlink:href=\"#o65ruxy78\" />\n",
       "<text font-size=\"17.5\" fill=\"#000000\" text-anchor=\"middle\"><textPath xlink:href=\"#o65ruxy78\" startOffset=\"50%\"></textPath></text>\n",
       "<path d=\"M-400,25.0 L-375.0,0 L-400,-25.0 L-425.0,0 Z\" fill=\"#A15989\" stroke=\"#000000\" stroke-width=\"2.0\" />\n",
       "<use xlink:href=\"#o65ruxy79\" />\n",
       "<text font-size=\"17.5\" fill=\"#000000\" text-anchor=\"middle\"><textPath xlink:href=\"#o65ruxy79\" startOffset=\"50%\"></textPath></text>\n",
       "<path d=\"M-225.0,121.65063509461096 L-200,78.34936490538904 L-175.0,121.65063509461096 Z\" fill=\"#C23537\" stroke=\"#000000\" stroke-width=\"2.0\" />\n",
       "<use xlink:href=\"#o65ruxy710\" />\n",
       "<text font-size=\"17.5\" fill=\"#000000\" text-anchor=\"middle\"><textPath xlink:href=\"#o65ruxy710\" startOffset=\"50%\"></textPath></text>\n",
       "</g>\n",
       "</svg>"
      ],
      "text/plain": [
       "<drawsvg.drawing.Drawing at 0x156532d20>"
      ]
     },
     "execution_count": 5,
     "metadata": {},
     "output_type": "execute_result"
    }
   ],
   "source": [
    "GlycoDraw(\"Neu5Ac(a2-3)Gal(b1-4)[Fuc(a1-3)]GlcNAc(b1-3)Gal(b1-3)GalNAc\", filepath=\"img/glycan1.png\")"
   ]
  },
  {
   "cell_type": "code",
   "execution_count": 6,
   "id": "d0355070-a36b-4c09-a0fc-7b3254c8e7fd",
   "metadata": {},
   "outputs": [
    {
     "data": {
      "image/svg+xml": [
       "<?xml version=\"1.0\" encoding=\"UTF-8\"?>\n",
       "<svg xmlns=\"http://www.w3.org/2000/svg\" xmlns:xlink=\"http://www.w3.org/1999/xlink\"\n",
       "     width=\"300\" height=\"310\" viewBox=\"-250.0 -105.0 300 310\">\n",
       "<defs>\n",
       "<path d=\"M-100,0 L0,0\" stroke-width=\"4.0\" stroke=\"#000000\" id=\"drjcA2N00\" />\n",
       "<path d=\"M-200,0 L-100,0\" stroke-width=\"4.0\" stroke=\"#000000\" id=\"drjcA2N01\" />\n",
       "<path d=\"M0,100 L0,0\" stroke-width=\"4.0\" stroke=\"#000000\" id=\"drjcA2N02\" />\n",
       "<path d=\"M-50,25.0 L50,25.0\" stroke-width=\"0\" id=\"drjcA2N03\" />\n",
       "<path d=\"M-150,25.0 L-50,25.0\" stroke-width=\"0\" id=\"drjcA2N04\" />\n",
       "<path d=\"M-250,25.0 L-150,25.0\" stroke-width=\"0\" id=\"drjcA2N05\" />\n",
       "<path d=\"M-50,125.0 L50,125.0\" stroke-width=\"0\" id=\"drjcA2N06\" />\n",
       "</defs>\n",
       "<g transform=\"rotate(0 -100.0 50.0)\">\n",
       "<use xlink:href=\"#drjcA2N00\" />\n",
       "<text font-size=\"20.0\" text-anchor=\"middle\" fill=\"#000000\" valign=\"middle\"><textPath xlink:href=\"#drjcA2N00\" startOffset=\"50%\">\n",
       "<tspan dy=\"-0.5em\">β 4</tspan>\n",
       "</textPath></text>\n",
       "<use xlink:href=\"#drjcA2N01\" />\n",
       "<text font-size=\"20.0\" text-anchor=\"middle\" fill=\"#000000\" valign=\"middle\"><textPath xlink:href=\"#drjcA2N01\" startOffset=\"50%\">\n",
       "<tspan dy=\"-0.5em\">α 3</tspan>\n",
       "</textPath></text>\n",
       "<use xlink:href=\"#drjcA2N02\" />\n",
       "<text font-size=\"20.0\" text-anchor=\"middle\" fill=\"#000000\" valign=\"middle\"><textPath xlink:href=\"#drjcA2N02\" startOffset=\"50%\">\n",
       "<tspan dy=\"-0.5em\">α 3</tspan>\n",
       "</textPath></text>\n",
       "<rect x=\"-25.0\" y=\"-25.0\" width=\"50\" height=\"50\" fill=\"#0385AE\" stroke-width=\"2.0\" stroke=\"#000000\" />\n",
       "<use xlink:href=\"#drjcA2N03\" />\n",
       "<text font-size=\"17.5\" fill=\"#000000\" text-anchor=\"middle\"><textPath xlink:href=\"#drjcA2N03\" startOffset=\"50%\"></textPath></text>\n",
       "<circle cx=\"-100\" cy=\"0\" r=\"25.0\" fill=\"#FCC326\" stroke-width=\"2.0\" stroke=\"#000000\" />\n",
       "<use xlink:href=\"#drjcA2N04\" />\n",
       "<text font-size=\"17.5\" fill=\"#000000\" text-anchor=\"middle\"><textPath xlink:href=\"#drjcA2N04\" startOffset=\"50%\"></textPath></text>\n",
       "<path d=\"M-200,25.0 L-175.0,0 L-200,-25.0 L-225.0,0 Z\" fill=\"#A15989\" stroke=\"#000000\" stroke-width=\"2.0\" />\n",
       "<use xlink:href=\"#drjcA2N05\" />\n",
       "<text font-size=\"17.5\" fill=\"#000000\" text-anchor=\"middle\"><textPath xlink:href=\"#drjcA2N05\" startOffset=\"50%\"></textPath></text>\n",
       "<path d=\"M-25.0,121.65063509461096 L0,78.34936490538904 L25.0,121.65063509461096 Z\" fill=\"#C23537\" stroke=\"#000000\" stroke-width=\"2.0\" />\n",
       "<use xlink:href=\"#drjcA2N06\" />\n",
       "<text font-size=\"17.5\" fill=\"#000000\" text-anchor=\"middle\"><textPath xlink:href=\"#drjcA2N06\" startOffset=\"50%\"></textPath></text>\n",
       "</g>\n",
       "</svg>"
      ],
      "text/plain": [
       "<drawsvg.drawing.Drawing at 0x158279550>"
      ]
     },
     "execution_count": 6,
     "metadata": {},
     "output_type": "execute_result"
    }
   ],
   "source": [
    "GlycoDraw(\"Neu5Ac(a2-3)Gal(b1-4)[Fuc(a1-3)]GlcNAc\", filepath=\"img/motif1.png\")"
   ]
  },
  {
   "cell_type": "code",
   "execution_count": 10,
   "id": "5084831f",
   "metadata": {},
   "outputs": [
    {
     "data": {
      "image/svg+xml": [
       "<?xml version=\"1.0\" encoding=\"UTF-8\"?>\n",
       "<svg xmlns=\"http://www.w3.org/2000/svg\" xmlns:xlink=\"http://www.w3.org/1999/xlink\"\n",
       "     width=\"100\" height=\"110\" viewBox=\"-50.0 -55.0 100 110\">\n",
       "<defs>\n",
       "<path d=\"M-50,25.0 L50,25.0\" stroke-width=\"0\" id=\"uDgkRPwi0\" />\n",
       "</defs>\n",
       "<g transform=\"rotate(0 0.0 0.0)\">\n",
       "<circle cx=\"0\" cy=\"0\" r=\"25.0\" fill=\"#FCC326\" stroke-width=\"2.0\" stroke=\"#000000\" />\n",
       "<use xlink:href=\"#uDgkRPwi0\" />\n",
       "<text font-size=\"17.5\" fill=\"#000000\" text-anchor=\"middle\"><textPath xlink:href=\"#uDgkRPwi0\" startOffset=\"50%\"></textPath></text>\n",
       "</g>\n",
       "</svg>"
      ],
      "text/plain": [
       "<drawsvg.drawing.Drawing at 0x1580559d0>"
      ]
     },
     "execution_count": 10,
     "metadata": {},
     "output_type": "execute_result"
    }
   ],
   "source": [
    "GlycoDraw(\"Gal\", filepath=\"img/motif2.png\")"
   ]
  },
  {
   "cell_type": "code",
   "execution_count": 12,
   "id": "dc50fc20",
   "metadata": {},
   "outputs": [
    {
     "data": {
      "image/svg+xml": [
       "<?xml version=\"1.0\" encoding=\"UTF-8\"?>\n",
       "<svg xmlns=\"http://www.w3.org/2000/svg\" xmlns:xlink=\"http://www.w3.org/1999/xlink\"\n",
       "     width=\"200\" height=\"110\" viewBox=\"-150.0 -55.0 200 110\">\n",
       "<defs>\n",
       "<path d=\"M-100,0 L0,0\" stroke-width=\"4.0\" stroke=\"#000000\" id=\"rvkzHGH90\" />\n",
       "<path d=\"M-50,25.0 L50,25.0\" stroke-width=\"0\" id=\"rvkzHGH91\" />\n",
       "<path d=\"M-150,25.0 L-50,25.0\" stroke-width=\"0\" id=\"rvkzHGH92\" />\n",
       "</defs>\n",
       "<g transform=\"rotate(0 -50.0 0.0)\">\n",
       "<use xlink:href=\"#rvkzHGH90\" />\n",
       "<text font-size=\"20.0\" text-anchor=\"middle\" fill=\"#000000\" valign=\"middle\"><textPath xlink:href=\"#rvkzHGH90\" startOffset=\"50%\">\n",
       "<tspan dy=\"-0.5em\">α 3</tspan>\n",
       "</textPath></text>\n",
       "<rect x=\"-25.0\" y=\"-25.0\" width=\"50\" height=\"50\" fill=\"#0385AE\" stroke-width=\"2.0\" stroke=\"#000000\" />\n",
       "<use xlink:href=\"#rvkzHGH91\" />\n",
       "<text font-size=\"17.5\" fill=\"#000000\" text-anchor=\"middle\"><textPath xlink:href=\"#rvkzHGH91\" startOffset=\"50%\"></textPath></text>\n",
       "<path d=\"M-125.0,21.650635094610966 L-100,-21.650635094610966 L-75.0,21.650635094610966 Z\" fill=\"#C23537\" stroke=\"#000000\" stroke-width=\"2.0\" />\n",
       "<use xlink:href=\"#rvkzHGH92\" />\n",
       "<text font-size=\"17.5\" fill=\"#000000\" text-anchor=\"middle\"><textPath xlink:href=\"#rvkzHGH92\" startOffset=\"50%\"></textPath></text>\n",
       "</g>\n",
       "</svg>"
      ],
      "text/plain": [
       "<drawsvg.drawing.Drawing at 0x1582b9d00>"
      ]
     },
     "execution_count": 12,
     "metadata": {},
     "output_type": "execute_result"
    }
   ],
   "source": [
    "GlycoDraw(\"Fuc(a1-3)GlcNAc\", filepath=\"img/motif3.png\")"
   ]
  },
  {
   "cell_type": "code",
   "execution_count": 15,
   "id": "fa4d127a",
   "metadata": {},
   "outputs": [
    {
     "data": {
      "image/svg+xml": [
       "<?xml version=\"1.0\" encoding=\"UTF-8\"?>\n",
       "<svg xmlns=\"http://www.w3.org/2000/svg\" xmlns:xlink=\"http://www.w3.org/1999/xlink\"\n",
       "     width=\"400\" height=\"210\" viewBox=\"-350.0 -105.0 400 210\">\n",
       "<defs>\n",
       "<path d=\"M-50,25.0 L50,25.0\" stroke-width=\"0\" id=\"MPNdcqRk0\" />\n",
       "<path d=\"M-150,25.0 L-50,25.0\" stroke-width=\"0\" id=\"MPNdcqRk1\" />\n",
       "<path d=\"M-250,25.0 L-150,25.0\" stroke-width=\"0\" id=\"MPNdcqRk2\" />\n",
       "<path d=\"M-350,75.0 L-250,75.0\" stroke-width=\"0\" id=\"MPNdcqRk3\" />\n",
       "<path d=\"M-350,-25.0 L-250,-25.0\" stroke-width=\"0\" id=\"MPNdcqRk4\" />\n",
       "</defs>\n",
       "<g transform=\"rotate(0 -150.0 0.0)\">\n",
       "<path d=\"M-100,0 L0,0\" stroke-width=\"4.0\" stroke=\"#000000\" />\n",
       "<path d=\"M-200,0 L-100,0\" stroke-width=\"4.0\" stroke=\"#000000\" />\n",
       "<path d=\"M-300,50.0 L-200,0\" stroke-width=\"4.0\" stroke=\"#000000\" />\n",
       "<path d=\"M-300,-50 L-200,0\" stroke-width=\"4.0\" stroke=\"#000000\" />\n",
       "<rect x=\"-25.0\" y=\"-25.0\" width=\"50\" height=\"50\" fill=\"#0385AE\" stroke-width=\"2.0\" stroke=\"#000000\" />\n",
       "<use xlink:href=\"#MPNdcqRk0\" />\n",
       "<text font-size=\"17.5\" fill=\"#000000\" text-anchor=\"middle\"><textPath xlink:href=\"#MPNdcqRk0\" startOffset=\"50%\"></textPath></text>\n",
       "<rect x=\"-125.0\" y=\"-25.0\" width=\"50\" height=\"50\" fill=\"#0385AE\" stroke-width=\"2.0\" stroke=\"#000000\" />\n",
       "<use xlink:href=\"#MPNdcqRk1\" />\n",
       "<text font-size=\"17.5\" fill=\"#000000\" text-anchor=\"middle\"><textPath xlink:href=\"#MPNdcqRk1\" startOffset=\"50%\"></textPath></text>\n",
       "<circle cx=\"-200\" cy=\"0\" r=\"25.0\" fill=\"#058F60\" stroke-width=\"2.0\" stroke=\"#000000\" />\n",
       "<use xlink:href=\"#MPNdcqRk2\" />\n",
       "<text font-size=\"17.5\" fill=\"#000000\" text-anchor=\"middle\"><textPath xlink:href=\"#MPNdcqRk2\" startOffset=\"50%\"></textPath></text>\n",
       "<circle cx=\"-300\" cy=\"50.0\" r=\"25.0\" fill=\"#058F60\" stroke-width=\"2.0\" stroke=\"#000000\" />\n",
       "<use xlink:href=\"#MPNdcqRk3\" />\n",
       "<text font-size=\"17.5\" fill=\"#000000\" text-anchor=\"middle\"><textPath xlink:href=\"#MPNdcqRk3\" startOffset=\"50%\"></textPath></text>\n",
       "<circle cx=\"-300\" cy=\"-50\" r=\"25.0\" fill=\"#058F60\" stroke-width=\"2.0\" stroke=\"#000000\" />\n",
       "<use xlink:href=\"#MPNdcqRk4\" />\n",
       "<text font-size=\"17.5\" fill=\"#000000\" text-anchor=\"middle\"><textPath xlink:href=\"#MPNdcqRk4\" startOffset=\"50%\"></textPath></text>\n",
       "</g>\n",
       "</svg>"
      ],
      "text/plain": [
       "<drawsvg.drawing.Drawing at 0x158156f30>"
      ]
     },
     "execution_count": 15,
     "metadata": {},
     "output_type": "execute_result"
    }
   ],
   "source": [
    "GlycoDraw(\"Man(??-?)[Man(??-?)]Man(??-?)GlcNAc(??-?)GlcNAc\", show_linkage=False, filepath=\"img/glycan2.png\")"
   ]
  },
  {
   "cell_type": "code",
   "execution_count": 16,
   "id": "1e6560ab",
   "metadata": {},
   "outputs": [
    {
     "data": {
      "image/svg+xml": [
       "<?xml version=\"1.0\" encoding=\"UTF-8\"?>\n",
       "<svg xmlns=\"http://www.w3.org/2000/svg\" xmlns:xlink=\"http://www.w3.org/1999/xlink\"\n",
       "     width=\"200\" height=\"210\" viewBox=\"-150.0 -105.0 200 210\">\n",
       "<defs>\n",
       "<path d=\"M-50,25.0 L50,25.0\" stroke-width=\"0\" id=\"OvtC2rZz0\" />\n",
       "<path d=\"M-150,75.0 L-50,75.0\" stroke-width=\"0\" id=\"OvtC2rZz1\" />\n",
       "<path d=\"M-150,-25.0 L-50,-25.0\" stroke-width=\"0\" id=\"OvtC2rZz2\" />\n",
       "</defs>\n",
       "<g transform=\"rotate(0 -50.0 0.0)\">\n",
       "<path d=\"M-100,50.0 L0,0\" stroke-width=\"4.0\" stroke=\"#000000\" />\n",
       "<path d=\"M-100,-50 L0,0\" stroke-width=\"4.0\" stroke=\"#000000\" />\n",
       "<circle cx=\"0\" cy=\"0\" r=\"25.0\" fill=\"#058F60\" stroke-width=\"2.0\" stroke=\"#000000\" />\n",
       "<use xlink:href=\"#OvtC2rZz0\" />\n",
       "<text font-size=\"17.5\" fill=\"#000000\" text-anchor=\"middle\"><textPath xlink:href=\"#OvtC2rZz0\" startOffset=\"50%\"></textPath></text>\n",
       "<circle cx=\"-100\" cy=\"50.0\" r=\"25.0\" fill=\"#058F60\" stroke-width=\"2.0\" stroke=\"#000000\" />\n",
       "<use xlink:href=\"#OvtC2rZz1\" />\n",
       "<text font-size=\"17.5\" fill=\"#000000\" text-anchor=\"middle\"><textPath xlink:href=\"#OvtC2rZz1\" startOffset=\"50%\"></textPath></text>\n",
       "<circle cx=\"-100\" cy=\"-50\" r=\"25.0\" fill=\"#058F60\" stroke-width=\"2.0\" stroke=\"#000000\" />\n",
       "<use xlink:href=\"#OvtC2rZz2\" />\n",
       "<text font-size=\"17.5\" fill=\"#000000\" text-anchor=\"middle\"><textPath xlink:href=\"#OvtC2rZz2\" startOffset=\"50%\"></textPath></text>\n",
       "</g>\n",
       "</svg>"
      ],
      "text/plain": [
       "<drawsvg.drawing.Drawing at 0x1582b9c10>"
      ]
     },
     "execution_count": 16,
     "metadata": {},
     "output_type": "execute_result"
    }
   ],
   "source": [
    "GlycoDraw(\"Man(??-?)[Man(??-?)]Man\", show_linkage=False, filepath=\"img/motif4.png\")"
   ]
  },
  {
   "cell_type": "code",
   "execution_count": 6,
   "id": "003b4490",
   "metadata": {},
   "outputs": [
    {
     "data": {
      "image/svg+xml": [
       "<?xml version=\"1.0\" encoding=\"UTF-8\"?>\n",
       "<svg xmlns=\"http://www.w3.org/2000/svg\" xmlns:xlink=\"http://www.w3.org/1999/xlink\"\n",
       "     width=\"400\" height=\"310\" viewBox=\"-350.0 -180.0 400 310\">\n",
       "<defs>\n",
       "<path d=\"M-100,0 L0,0\" stroke-width=\"4.0\" stroke=\"#000000\" id=\"ts2uAcoY0\" />\n",
       "<path d=\"M-200,0 L-100,0\" stroke-width=\"4.0\" stroke=\"#000000\" id=\"ts2uAcoY1\" />\n",
       "<path d=\"M-300,50.0 L-200,0\" stroke-width=\"4.0\" stroke=\"#000000\" id=\"ts2uAcoY2\" />\n",
       "<path d=\"M-300,-50 L-200,0\" stroke-width=\"4.0\" stroke=\"#000000\" id=\"ts2uAcoY3\" />\n",
       "<path d=\"M0,-100 L0,0\" stroke-width=\"4.0\" stroke=\"#000000\" id=\"ts2uAcoY4\" />\n",
       "<path d=\"M-50,25.0 L50,25.0\" stroke-width=\"0\" id=\"ts2uAcoY5\" />\n",
       "<path d=\"M-150,25.0 L-50,25.0\" stroke-width=\"0\" id=\"ts2uAcoY6\" />\n",
       "<path d=\"M-250,25.0 L-150,25.0\" stroke-width=\"0\" id=\"ts2uAcoY7\" />\n",
       "<path d=\"M-350,75.0 L-250,75.0\" stroke-width=\"0\" id=\"ts2uAcoY8\" />\n",
       "<path d=\"M-350,-25.0 L-250,-25.0\" stroke-width=\"0\" id=\"ts2uAcoY9\" />\n",
       "<path d=\"M-50,-75.0 L50,-75.0\" stroke-width=\"0\" id=\"ts2uAcoY10\" />\n",
       "</defs>\n",
       "<g transform=\"rotate(0 -150.0 -25.0)\">\n",
       "<use xlink:href=\"#ts2uAcoY0\" />\n",
       "<text font-size=\"20.0\" text-anchor=\"middle\" fill=\"#000000\" valign=\"middle\"><textPath xlink:href=\"#ts2uAcoY0\" startOffset=\"50%\">\n",
       "<tspan dy=\"-0.5em\">β 4</tspan>\n",
       "</textPath></text>\n",
       "<use xlink:href=\"#ts2uAcoY1\" />\n",
       "<text font-size=\"20.0\" text-anchor=\"middle\" fill=\"#000000\" valign=\"middle\"><textPath xlink:href=\"#ts2uAcoY1\" startOffset=\"50%\">\n",
       "<tspan dy=\"-0.5em\">β 4</tspan>\n",
       "</textPath></text>\n",
       "<use xlink:href=\"#ts2uAcoY2\" />\n",
       "<text font-size=\"20.0\" text-anchor=\"middle\" fill=\"#000000\" valign=\"middle\"><textPath xlink:href=\"#ts2uAcoY2\" startOffset=\"50%\">\n",
       "<tspan dy=\"-0.5em\">α 3</tspan>\n",
       "</textPath></text>\n",
       "<use xlink:href=\"#ts2uAcoY3\" />\n",
       "<text font-size=\"20.0\" text-anchor=\"middle\" fill=\"#000000\" valign=\"middle\"><textPath xlink:href=\"#ts2uAcoY3\" startOffset=\"50%\">\n",
       "<tspan dy=\"-0.5em\">α 6</tspan>\n",
       "</textPath></text>\n",
       "<use xlink:href=\"#ts2uAcoY4\" />\n",
       "<text font-size=\"20.0\" text-anchor=\"middle\" fill=\"#000000\" valign=\"middle\"><textPath xlink:href=\"#ts2uAcoY4\" startOffset=\"50%\">\n",
       "<tspan dy=\"-0.5em\">α 6</tspan>\n",
       "</textPath></text>\n",
       "<rect x=\"-25.0\" y=\"-25.0\" width=\"50\" height=\"50\" fill=\"#0385AE\" stroke-width=\"2.0\" stroke=\"#000000\" />\n",
       "<use xlink:href=\"#ts2uAcoY5\" />\n",
       "<text font-size=\"17.5\" fill=\"#000000\" text-anchor=\"middle\"><textPath xlink:href=\"#ts2uAcoY5\" startOffset=\"50%\"></textPath></text>\n",
       "<rect x=\"-125.0\" y=\"-25.0\" width=\"50\" height=\"50\" fill=\"#0385AE\" stroke-width=\"2.0\" stroke=\"#000000\" />\n",
       "<use xlink:href=\"#ts2uAcoY6\" />\n",
       "<text font-size=\"17.5\" fill=\"#000000\" text-anchor=\"middle\"><textPath xlink:href=\"#ts2uAcoY6\" startOffset=\"50%\"></textPath></text>\n",
       "<circle cx=\"-200\" cy=\"0\" r=\"25.0\" fill=\"#058F60\" stroke-width=\"2.0\" stroke=\"#000000\" />\n",
       "<use xlink:href=\"#ts2uAcoY7\" />\n",
       "<text font-size=\"17.5\" fill=\"#000000\" text-anchor=\"middle\"><textPath xlink:href=\"#ts2uAcoY7\" startOffset=\"50%\"></textPath></text>\n",
       "<circle cx=\"-300\" cy=\"50.0\" r=\"25.0\" fill=\"#058F60\" stroke-width=\"2.0\" stroke=\"#000000\" />\n",
       "<use xlink:href=\"#ts2uAcoY8\" />\n",
       "<text font-size=\"17.5\" fill=\"#000000\" text-anchor=\"middle\"><textPath xlink:href=\"#ts2uAcoY8\" startOffset=\"50%\"></textPath></text>\n",
       "<circle cx=\"-300\" cy=\"-50\" r=\"25.0\" fill=\"#058F60\" stroke-width=\"2.0\" stroke=\"#000000\" />\n",
       "<use xlink:href=\"#ts2uAcoY9\" />\n",
       "<text font-size=\"17.5\" fill=\"#000000\" text-anchor=\"middle\"><textPath xlink:href=\"#ts2uAcoY9\" startOffset=\"50%\"></textPath></text>\n",
       "<path d=\"M-25.0,-78.34936490538904 L0,-121.65063509461096 L25.0,-78.34936490538904 Z\" fill=\"#C23537\" stroke=\"#000000\" stroke-width=\"2.0\" />\n",
       "<use xlink:href=\"#ts2uAcoY10\" />\n",
       "<text font-size=\"17.5\" fill=\"#000000\" text-anchor=\"middle\"><textPath xlink:href=\"#ts2uAcoY10\" startOffset=\"50%\"></textPath></text>\n",
       "</g>\n",
       "</svg>"
      ],
      "text/plain": [
       "<drawsvg.drawing.Drawing at 0x14790d7c0>"
      ]
     },
     "execution_count": 6,
     "metadata": {},
     "output_type": "execute_result"
    }
   ],
   "source": [
    "GlycoDraw(\"Man(a1-6)[Man(a1-3)]Man(b1-4)GlcNAc(b1-4)[Fuc(a1-6)]GlcNAc\", filepath=\"img/glycan3.png\")"
   ]
  },
  {
   "cell_type": "code",
   "execution_count": 10,
   "id": "f2987e2f",
   "metadata": {},
   "outputs": [
    {
     "data": {
      "image/svg+xml": [
       "<?xml version=\"1.0\" encoding=\"UTF-8\"?>\n",
       "<svg xmlns=\"http://www.w3.org/2000/svg\" xmlns:xlink=\"http://www.w3.org/1999/xlink\"\n",
       "     width=\"200\" height=\"110\" viewBox=\"-150.0 -55.0 200 110\">\n",
       "<defs>\n",
       "<path d=\"M-100,0 L0,0\" stroke-width=\"4.0\" stroke=\"#000000\" id=\"IKXRtfV30\" />\n",
       "<path d=\"M-50,25.0 L50,25.0\" stroke-width=\"0\" id=\"IKXRtfV31\" />\n",
       "<path d=\"M-150,25.0 L-50,25.0\" stroke-width=\"0\" id=\"IKXRtfV32\" />\n",
       "</defs>\n",
       "<g transform=\"rotate(0 -50.0 0.0)\">\n",
       "<use xlink:href=\"#IKXRtfV30\" />\n",
       "<text font-size=\"20.0\" text-anchor=\"middle\" fill=\"#000000\" valign=\"middle\"><textPath xlink:href=\"#IKXRtfV30\" startOffset=\"50%\">\n",
       "<tspan dy=\"-0.5em\">α 6</tspan>\n",
       "</textPath></text>\n",
       "<rect x=\"-25.0\" y=\"-25.0\" width=\"50\" height=\"50\" fill=\"#0385AE\" stroke-width=\"2.0\" stroke=\"#000000\" />\n",
       "<use xlink:href=\"#IKXRtfV31\" />\n",
       "<text font-size=\"17.5\" fill=\"#000000\" text-anchor=\"middle\"><textPath xlink:href=\"#IKXRtfV31\" startOffset=\"50%\"></textPath></text>\n",
       "<path d=\"M-125.0,21.650635094610966 L-100,-21.650635094610966 L-75.0,21.650635094610966 Z\" fill=\"#C23537\" stroke=\"#000000\" stroke-width=\"2.0\" />\n",
       "<use xlink:href=\"#IKXRtfV32\" />\n",
       "<text font-size=\"17.5\" fill=\"#000000\" text-anchor=\"middle\"><textPath xlink:href=\"#IKXRtfV32\" startOffset=\"50%\"></textPath></text>\n",
       "</g>\n",
       "</svg>"
      ],
      "text/plain": [
       "<drawsvg.drawing.Drawing at 0x14792c380>"
      ]
     },
     "execution_count": 10,
     "metadata": {},
     "output_type": "execute_result"
    }
   ],
   "source": [
    "GlycoDraw(\"Fuc(a1-6)GlcNAc\", filepath=\"img/motif5.png\")"
   ]
  },
  {
   "cell_type": "code",
   "execution_count": 11,
   "id": "4d5b1689",
   "metadata": {},
   "outputs": [
    {
     "data": {
      "image/svg+xml": [
       "<?xml version=\"1.0\" encoding=\"UTF-8\"?>\n",
       "<svg xmlns=\"http://www.w3.org/2000/svg\" xmlns:xlink=\"http://www.w3.org/1999/xlink\"\n",
       "     width=\"200\" height=\"110\" viewBox=\"-150.0 -55.0 200 110\">\n",
       "<defs>\n",
       "<path d=\"M-100,0 L0,0\" stroke-width=\"4.0\" stroke=\"#000000\" id=\"lkEnhZR70\" />\n",
       "<path d=\"M-50,25.0 L50,25.0\" stroke-width=\"0\" id=\"lkEnhZR71\" />\n",
       "<path d=\"M-150,25.0 L-50,25.0\" stroke-width=\"0\" id=\"lkEnhZR72\" />\n",
       "</defs>\n",
       "<g transform=\"rotate(0 -50.0 0.0)\">\n",
       "<use xlink:href=\"#lkEnhZR70\" />\n",
       "<text font-size=\"20.0\" text-anchor=\"middle\" fill=\"#000000\" valign=\"middle\"><textPath xlink:href=\"#lkEnhZR70\" startOffset=\"50%\">\n",
       "<tspan dy=\"-0.5em\">α 3</tspan>\n",
       "</textPath></text>\n",
       "<rect x=\"-25.0\" y=\"-25.0\" width=\"50\" height=\"50\" fill=\"#0385AE\" stroke-width=\"2.0\" stroke=\"#000000\" />\n",
       "<use xlink:href=\"#lkEnhZR71\" />\n",
       "<text font-size=\"17.5\" fill=\"#000000\" text-anchor=\"middle\"><textPath xlink:href=\"#lkEnhZR71\" startOffset=\"50%\"></textPath></text>\n",
       "<path d=\"M-125.0,21.650635094610966 L-100,-21.650635094610966 L-75.0,21.650635094610966 Z\" fill=\"#C23537\" stroke=\"#000000\" stroke-width=\"2.0\" />\n",
       "<use xlink:href=\"#lkEnhZR72\" />\n",
       "<text font-size=\"17.5\" fill=\"#000000\" text-anchor=\"middle\"><textPath xlink:href=\"#lkEnhZR72\" startOffset=\"50%\"></textPath></text>\n",
       "</g>\n",
       "</svg>"
      ],
      "text/plain": [
       "<drawsvg.drawing.Drawing at 0x14792d910>"
      ]
     },
     "execution_count": 11,
     "metadata": {},
     "output_type": "execute_result"
    }
   ],
   "source": [
    "GlycoDraw(\"Fuc(a1-3)GlcNAc\", filepath=\"img/motif6.png\")"
   ]
  },
  {
   "cell_type": "code",
   "execution_count": 12,
   "id": "9e268a52",
   "metadata": {},
   "outputs": [
    {
     "data": {
      "image/svg+xml": [
       "<?xml version=\"1.0\" encoding=\"UTF-8\"?>\n",
       "<svg xmlns=\"http://www.w3.org/2000/svg\" xmlns:xlink=\"http://www.w3.org/1999/xlink\"\n",
       "     width=\"200\" height=\"110\" viewBox=\"-150.0 -55.0 200 110\">\n",
       "<defs>\n",
       "<path d=\"M-100,0 L0,0\" stroke-width=\"4.0\" stroke=\"#000000\" id=\"hPPR17JP0\" />\n",
       "<path d=\"M-50,25.0 L50,25.0\" stroke-width=\"0\" id=\"hPPR17JP1\" />\n",
       "<path d=\"M-150,25.0 L-50,25.0\" stroke-width=\"0\" id=\"hPPR17JP2\" />\n",
       "</defs>\n",
       "<g transform=\"rotate(0 -50.0 0.0)\">\n",
       "<use xlink:href=\"#hPPR17JP0\" />\n",
       "<text font-size=\"20.0\" text-anchor=\"middle\" fill=\"#000000\" valign=\"middle\"><textPath xlink:href=\"#hPPR17JP0\" startOffset=\"50%\">\n",
       "<tspan dy=\"-0.5em\">α</tspan>\n",
       "</textPath></text>\n",
       "<rect x=\"-25.0\" y=\"-25.0\" width=\"50\" height=\"50\" fill=\"#0385AE\" stroke-width=\"2.0\" stroke=\"#000000\" />\n",
       "<use xlink:href=\"#hPPR17JP1\" />\n",
       "<text font-size=\"17.5\" fill=\"#000000\" text-anchor=\"middle\"><textPath xlink:href=\"#hPPR17JP1\" startOffset=\"50%\"></textPath></text>\n",
       "<path d=\"M-125.0,21.650635094610966 L-100,-21.650635094610966 L-75.0,21.650635094610966 Z\" fill=\"#C23537\" stroke=\"#000000\" stroke-width=\"2.0\" />\n",
       "<use xlink:href=\"#hPPR17JP2\" />\n",
       "<text font-size=\"17.5\" fill=\"#000000\" text-anchor=\"middle\"><textPath xlink:href=\"#hPPR17JP2\" startOffset=\"50%\"></textPath></text>\n",
       "</g>\n",
       "</svg>"
      ],
      "text/plain": [
       "<drawsvg.drawing.Drawing at 0x14792de80>"
      ]
     },
     "execution_count": 12,
     "metadata": {},
     "output_type": "execute_result"
    }
   ],
   "source": [
    "GlycoDraw(\"Fuc(a1-?)GlcNAc\", filepath=\"img/motif7.png\")"
   ]
  },
  {
   "cell_type": "code",
   "execution_count": null,
   "id": "88c8d5f9",
   "metadata": {},
   "outputs": [],
   "source": []
  }
 ],
 "metadata": {
  "kernelspec": {
   "display_name": "glycowork",
   "language": "python",
   "name": "python3"
  },
  "language_info": {
   "codemirror_mode": {
    "name": "ipython",
    "version": 3
   },
   "file_extension": ".py",
   "mimetype": "text/x-python",
   "name": "python",
   "nbconvert_exporter": "python",
   "pygments_lexer": "ipython3",
   "version": "3.12.11"
  }
 },
 "nbformat": 4,
 "nbformat_minor": 5
}
