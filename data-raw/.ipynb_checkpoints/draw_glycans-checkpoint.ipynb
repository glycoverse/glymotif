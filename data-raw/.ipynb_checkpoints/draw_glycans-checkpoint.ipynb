{
 "cells": [
  {
   "cell_type": "code",
   "execution_count": 1,
   "id": "6e66ffad-87e6-4684-a362-a7241648f52a",
   "metadata": {},
   "outputs": [],
   "source": [
    "from glycowork import GlycoDraw"
   ]
  },
  {
   "cell_type": "code",
   "execution_count": 3,
   "id": "6020d546-fc98-4f09-a929-7e7eafdd073e",
   "metadata": {},
   "outputs": [
    {
     "data": {
      "image/svg+xml": [
       "<?xml version=\"1.0\" encoding=\"UTF-8\"?>\n",
       "<svg xmlns=\"http://www.w3.org/2000/svg\" xmlns:xlink=\"http://www.w3.org/1999/xlink\"\n",
       "     width=\"500\" height=\"310\" viewBox=\"-450.0 -105.0 500 310\">\n",
       "<defs>\n",
       "<path d=\"M-100,0 L0,0\" stroke-width=\"4.0\" stroke=\"#000000\" id=\"yJ7ESQ820\" />\n",
       "<path d=\"M-200,0 L-100,0\" stroke-width=\"4.0\" stroke=\"#000000\" id=\"yJ7ESQ821\" />\n",
       "<path d=\"M-300,0 L-200,0\" stroke-width=\"4.0\" stroke=\"#000000\" id=\"yJ7ESQ822\" />\n",
       "<path d=\"M-400,0 L-300,0\" stroke-width=\"4.0\" stroke=\"#000000\" id=\"yJ7ESQ823\" />\n",
       "<path d=\"M-200,100 L-200,0\" stroke-width=\"4.0\" stroke=\"#000000\" id=\"yJ7ESQ824\" />\n",
       "<path d=\"M-50,25.0 L50,25.0\" stroke-width=\"0\" id=\"yJ7ESQ825\" />\n",
       "<path d=\"M-150,25.0 L-50,25.0\" stroke-width=\"0\" id=\"yJ7ESQ826\" />\n",
       "<path d=\"M-250,25.0 L-150,25.0\" stroke-width=\"0\" id=\"yJ7ESQ827\" />\n",
       "<path d=\"M-350,25.0 L-250,25.0\" stroke-width=\"0\" id=\"yJ7ESQ828\" />\n",
       "<path d=\"M-450,25.0 L-350,25.0\" stroke-width=\"0\" id=\"yJ7ESQ829\" />\n",
       "<path d=\"M-250,125.0 L-150,125.0\" stroke-width=\"0\" id=\"yJ7ESQ8210\" />\n",
       "</defs>\n",
       "<g transform=\"rotate(0 -200.0 50.0)\">\n",
       "<use xlink:href=\"#yJ7ESQ820\" />\n",
       "<text font-size=\"20.0\" text-anchor=\"middle\" fill=\"#000000\" valign=\"middle\"><textPath xlink:href=\"#yJ7ESQ820\" startOffset=\"50%\">\n",
       "<tspan dy=\"-0.5em\">β 3</tspan>\n",
       "</textPath></text>\n",
       "<use xlink:href=\"#yJ7ESQ821\" />\n",
       "<text font-size=\"20.0\" text-anchor=\"middle\" fill=\"#000000\" valign=\"middle\"><textPath xlink:href=\"#yJ7ESQ821\" startOffset=\"50%\">\n",
       "<tspan dy=\"-0.5em\">β 3</tspan>\n",
       "</textPath></text>\n",
       "<use xlink:href=\"#yJ7ESQ822\" />\n",
       "<text font-size=\"20.0\" text-anchor=\"middle\" fill=\"#000000\" valign=\"middle\"><textPath xlink:href=\"#yJ7ESQ822\" startOffset=\"50%\">\n",
       "<tspan dy=\"-0.5em\">β 4</tspan>\n",
       "</textPath></text>\n",
       "<use xlink:href=\"#yJ7ESQ823\" />\n",
       "<text font-size=\"20.0\" text-anchor=\"middle\" fill=\"#000000\" valign=\"middle\"><textPath xlink:href=\"#yJ7ESQ823\" startOffset=\"50%\">\n",
       "<tspan dy=\"-0.5em\">α 3</tspan>\n",
       "</textPath></text>\n",
       "<use xlink:href=\"#yJ7ESQ824\" />\n",
       "<text font-size=\"20.0\" text-anchor=\"middle\" fill=\"#000000\" valign=\"middle\"><textPath xlink:href=\"#yJ7ESQ824\" startOffset=\"50%\">\n",
       "<tspan dy=\"-0.5em\">α 3</tspan>\n",
       "</textPath></text>\n",
       "<rect x=\"-25.0\" y=\"-25.0\" width=\"50\" height=\"50\" fill=\"#FCC326\" stroke-width=\"2.0\" stroke=\"#000000\" />\n",
       "<use xlink:href=\"#yJ7ESQ825\" />\n",
       "<text font-size=\"17.5\" fill=\"#000000\" text-anchor=\"middle\"><textPath xlink:href=\"#yJ7ESQ825\" startOffset=\"50%\"></textPath></text>\n",
       "<circle cx=\"-100\" cy=\"0\" r=\"25.0\" fill=\"#FCC326\" stroke-width=\"2.0\" stroke=\"#000000\" />\n",
       "<use xlink:href=\"#yJ7ESQ826\" />\n",
       "<text font-size=\"17.5\" fill=\"#000000\" text-anchor=\"middle\"><textPath xlink:href=\"#yJ7ESQ826\" startOffset=\"50%\"></textPath></text>\n",
       "<rect x=\"-225.0\" y=\"-25.0\" width=\"50\" height=\"50\" fill=\"#0385AE\" stroke-width=\"2.0\" stroke=\"#000000\" />\n",
       "<use xlink:href=\"#yJ7ESQ827\" />\n",
       "<text font-size=\"17.5\" fill=\"#000000\" text-anchor=\"middle\"><textPath xlink:href=\"#yJ7ESQ827\" startOffset=\"50%\"></textPath></text>\n",
       "<circle cx=\"-300\" cy=\"0\" r=\"25.0\" fill=\"#FCC326\" stroke-width=\"2.0\" stroke=\"#000000\" />\n",
       "<use xlink:href=\"#yJ7ESQ828\" />\n",
       "<text font-size=\"17.5\" fill=\"#000000\" text-anchor=\"middle\"><textPath xlink:href=\"#yJ7ESQ828\" startOffset=\"50%\"></textPath></text>\n",
       "<path d=\"M-400,25.0 L-375.0,0 L-400,-25.0 L-425.0,0 Z\" fill=\"#A15989\" stroke=\"#000000\" stroke-width=\"2.0\" />\n",
       "<use xlink:href=\"#yJ7ESQ829\" />\n",
       "<text font-size=\"17.5\" fill=\"#000000\" text-anchor=\"middle\"><textPath xlink:href=\"#yJ7ESQ829\" startOffset=\"50%\"></textPath></text>\n",
       "<path d=\"M-225.0,121.65063509461096 L-200,78.34936490538904 L-175.0,121.65063509461096 Z\" fill=\"#C23537\" stroke=\"#000000\" stroke-width=\"2.0\" />\n",
       "<use xlink:href=\"#yJ7ESQ8210\" />\n",
       "<text font-size=\"17.5\" fill=\"#000000\" text-anchor=\"middle\"><textPath xlink:href=\"#yJ7ESQ8210\" startOffset=\"50%\"></textPath></text>\n",
       "</g>\n",
       "</svg>"
      ],
      "text/plain": [
       "<drawsvg.drawing.Drawing at 0x133f28680>"
      ]
     },
     "execution_count": 3,
     "metadata": {},
     "output_type": "execute_result"
    }
   ],
   "source": [
    "GlycoDraw(\"Neu5Ac(a2-3)Gal(b1-4)[Fuc(a1-3)]GlcNAc(b1-3)Gal(b1-3)GalNAc\")"
   ]
  },
  {
   "cell_type": "code",
   "execution_count": null,
   "id": "d0355070-a36b-4c09-a0fc-7b3254c8e7fd",
   "metadata": {},
   "outputs": [],
   "source": []
  }
 ],
 "metadata": {
  "kernelspec": {
   "display_name": "Python 3 (ipykernel)",
   "language": "python",
   "name": "python3"
  },
  "language_info": {
   "codemirror_mode": {
    "name": "ipython",
    "version": 3
   },
   "file_extension": ".py",
   "mimetype": "text/x-python",
   "name": "python",
   "nbconvert_exporter": "python",
   "pygments_lexer": "ipython3",
   "version": "3.12.11"
  }
 },
 "nbformat": 4,
 "nbformat_minor": 5
}
